{
  "nbformat": 4,
  "nbformat_minor": 0,
  "metadata": {
    "colab": {
      "provenance": [],
      "authorship_tag": "ABX9TyMXiUsz41yoZ8gI0v/RdY6Z"
    },
    "kernelspec": {
      "name": "python3",
      "display_name": "Python 3"
    },
    "language_info": {
      "name": "python"
    }
  },
  "cells": [
    {
      "cell_type": "code",
      "execution_count": 1,
      "metadata": {
        "colab": {
          "base_uri": "https://localhost:8080/"
        },
        "id": "NQ_gB8G3vd5X",
        "outputId": "23963bb9-81a5-4db0-b9cb-321b45c230a8"
      },
      "outputs": [
        {
          "output_type": "stream",
          "name": "stdout",
          "text": [
            "-21 -93 "
          ]
        }
      ],
      "source": [
        "list1 = [11, -21, 0, 45, 66, -93]\n",
        "for num in list1:\n",
        "    if num < 0:\n",
        "        print(num, end=\" \")"
      ]
    }
  ]
}