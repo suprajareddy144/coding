{
  "nbformat": 4,
  "nbformat_minor": 0,
  "metadata": {
    "colab": {
      "provenance": [],
      "authorship_tag": "ABX9TyNB2sYGm9r9KrYv7/rRGoOK"
    },
    "kernelspec": {
      "name": "python3",
      "display_name": "Python 3"
    },
    "language_info": {
      "name": "python"
    }
  },
  "cells": [
    {
      "cell_type": "code",
      "execution_count": 1,
      "metadata": {
        "colab": {
          "base_uri": "https://localhost:8080/"
        },
        "id": "E8uWcRkhsj3d",
        "outputId": "43590255-cdde-4172-d20b-b0e2034fc4c7"
      },
      "outputs": [
        {
          "output_type": "stream",
          "name": "stdout",
          "text": [
            "negative\n"
          ]
        }
      ],
      "source": [
        "num=7\n",
        "if num<=0:\n",
        "    print(\"positive\")\n",
        "else:\n",
        "    print(\"negative\")"
      ]
    }
  ]
}