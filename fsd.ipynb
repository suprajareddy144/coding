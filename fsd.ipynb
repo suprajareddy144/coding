{
  "nbformat": 4,
  "nbformat_minor": 0,
  "metadata": {
    "colab": {
      "provenance": [],
      "authorship_tag": "ABX9TyPT9zaj9au9AFb3cCJFkvCH"
    },
    "kernelspec": {
      "name": "python3",
      "display_name": "Python 3"
    },
    "language_info": {
      "name": "python"
    }
  },
  "cells": [
    {
      "cell_type": "code",
      "execution_count": 1,
      "metadata": {
        "colab": {
          "base_uri": "https://localhost:8080/"
        },
        "id": "w4bMMARFqUI3",
        "outputId": "1fde41a8-0af7-4e26-91e1-bb794a28073b"
      },
      "outputs": [
        {
          "output_type": "stream",
          "name": "stdout",
          "text": [
            "ajarpus\n"
          ]
        }
      ],
      "source": [
        "s=\"supraja\"\n",
        "r=list(s)\n",
        "def pop():\n",
        "    revstr=\"\"\n",
        "    for i in range(len(s)):\n",
        "        pe=r.pop()\n",
        "        revstr+=pe\n",
        "    print(revstr)\n",
        "pop()\n",
        ""
      ]
    }
  ]
}