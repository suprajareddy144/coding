{
  "nbformat": 4,
  "nbformat_minor": 0,
  "metadata": {
    "colab": {
      "provenance": [],
      "authorship_tag": "ABX9TyOoqL3ZEc4D7BI/PAHJFzBg"
    },
    "kernelspec": {
      "name": "python3",
      "display_name": "Python 3"
    },
    "language_info": {
      "name": "python"
    }
  },
  "cells": [
    {
      "cell_type": "code",
      "execution_count": 1,
      "metadata": {
        "colab": {
          "base_uri": "https://localhost:8080/"
        },
        "id": "Rta81LtdvRYS",
        "outputId": "c8974a6e-6a8b-4f42-bde2-359832d475de"
      },
      "outputs": [
        {
          "output_type": "stream",
          "name": "stdout",
          "text": [
            "[0, 0, 0, 1, 2, 4, 8]\n"
          ]
        }
      ],
      "source": [
        "n=[0,1,2,4,0,8,0]\n",
        "n1=[]\n",
        "n2=[]\n",
        "for i in n:\n",
        "  if i==0:\n",
        "    n1.append(i)\n",
        "  else:\n",
        "    n2.append(i)\n",
        "print(n2+n1)"
      ]
    }
  ]
}