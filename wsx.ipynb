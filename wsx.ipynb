{
  "nbformat": 4,
  "nbformat_minor": 0,
  "metadata": {
    "colab": {
      "provenance": [],
      "authorship_tag": "ABX9TyMhjQiwGV4wTeUiEEKdYAsN"
    },
    "kernelspec": {
      "name": "python3",
      "display_name": "Python 3"
    },
    "language_info": {
      "name": "python"
    }
  },
  "cells": [
    {
      "cell_type": "code",
      "execution_count": 14,
      "metadata": {
        "colab": {
          "base_uri": "https://localhost:8080/"
        },
        "id": "hbbHKQ81U9lC",
        "outputId": "a469dcfc-185a-4e39-beb2-ab0c68dcd3bf"
      },
      "outputs": [
        {
          "output_type": "stream",
          "name": "stdout",
          "text": [
            "enter a no22\n",
            "22\n",
            "11\n",
            "34\n",
            "17\n",
            "52\n",
            "26\n",
            "13\n",
            "40\n",
            "20\n",
            "10\n",
            "5\n",
            "16\n",
            "8\n",
            "4\n",
            "2\n"
          ]
        }
      ],
      "source": [
        "no =int(input (\"enter a no\"))\n",
        "while no!=1:\n",
        "  print(no)\n",
        "  if no%2==0:\n",
        "\t    no=no//2\n",
        "  else:\n",
        "\t    no=no*3+1"
      ]
    }
  ]
}