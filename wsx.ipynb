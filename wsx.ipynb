{
  "nbformat": 4,
  "nbformat_minor": 0,
  "metadata": {
    "colab": {
      "provenance": [],
      "authorship_tag": "ABX9TyPWkf6F8ZjuX5NT2PMb4kjA"
    },
    "kernelspec": {
      "name": "python3",
      "display_name": "Python 3"
    },
    "language_info": {
      "name": "python"
    }
  },
  "cells": [
    {
      "cell_type": "code",
      "execution_count": null,
      "metadata": {
        "id": "V5nWAOGYwOyK"
      },
      "outputs": [],
      "source": [
        "n=int(input)\n",
        "if n%2==0:\n",
        "  if n>6 and n<=20:\n",
        "    print(\"weired\")\n",
        "  else:\n",
        "    print(\"not weired\")\n",
        "else:\n",
        "  print(\"weired\")"
      ]
    }
  ]
}