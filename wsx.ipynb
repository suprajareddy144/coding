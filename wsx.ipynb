{
  "nbformat": 4,
  "nbformat_minor": 0,
  "metadata": {
    "colab": {
      "provenance": [],
      "authorship_tag": "ABX9TyN5xL0wwNcYQZ4pvKR3iU31",
      "include_colab_link": true
    },
    "kernelspec": {
      "name": "python3",
      "display_name": "Python 3"
    },
    "language_info": {
      "name": "python"
    }
  },
  "cells": [
    {
      "cell_type": "markdown",
      "metadata": {
        "id": "view-in-github",
        "colab_type": "text"
      },
      "source": [
        "<a href=\"https://colab.research.google.com/github/suprajareddy144/coding/blob/master/wsx.ipynb\" target=\"_parent\"><img src=\"https://colab.research.google.com/assets/colab-badge.svg\" alt=\"Open In Colab\"/></a>"
      ]
    },
    {
      "cell_type": "code",
      "execution_count": 2,
      "metadata": {
        "colab": {
          "base_uri": "https://localhost:8080/"
        },
        "id": "V5nWAOGYwOyK",
        "outputId": "3d0c2a45-e175-4dee-9a4e-8916993d9192"
      },
      "outputs": [
        {
          "output_type": "stream",
          "name": "stdout",
          "text": [
            "enter a number5\n",
            "weired\n"
          ]
        }
      ],
      "source": [
        "n=int(input(\"enter a number\"))\n",
        "if n%2==0:\n",
        "  if n>6 and n<=20:\n",
        "    print(\"weired\")\n",
        "  else:\n",
        "    print(\"not weired\")\n",
        "else:\n",
        "  print(\"weired\")"
      ]
    }
  ]
}